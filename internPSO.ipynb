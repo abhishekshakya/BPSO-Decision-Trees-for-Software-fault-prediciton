{
  "nbformat": 4,
  "nbformat_minor": 0,
  "metadata": {
    "colab": {
      "name": "internPSO.ipynb",
      "provenance": [],
      "authorship_tag": "ABX9TyOQ7xKrLGIV7/vYEo0TlCiX",
      "include_colab_link": true
    },
    "kernelspec": {
      "name": "python3",
      "display_name": "Python 3"
    },
    "accelerator": "GPU",
    "widgets": {
      "application/vnd.jupyter.widget-state+json": {
        "aa111ab9fad540e7ab54ef6c6fa1ec90": {
          "model_module": "@jupyter-widgets/controls",
          "model_name": "HBoxModel",
          "state": {
            "_view_name": "HBoxView",
            "_dom_classes": [],
            "_model_name": "HBoxModel",
            "_view_module": "@jupyter-widgets/controls",
            "_model_module_version": "1.5.0",
            "_view_count": null,
            "_view_module_version": "1.5.0",
            "box_style": "",
            "layout": "IPY_MODEL_034388bc21a440acb59a7e235208da81",
            "_model_module": "@jupyter-widgets/controls",
            "children": [
              "IPY_MODEL_86864732a4b14b6fa83027a4d95418aa",
              "IPY_MODEL_83e0dfa400154177832b33c15771c917"
            ]
          }
        },
        "034388bc21a440acb59a7e235208da81": {
          "model_module": "@jupyter-widgets/base",
          "model_name": "LayoutModel",
          "state": {
            "_view_name": "LayoutView",
            "grid_template_rows": null,
            "right": null,
            "justify_content": null,
            "_view_module": "@jupyter-widgets/base",
            "overflow": null,
            "_model_module_version": "1.2.0",
            "_view_count": null,
            "flex_flow": null,
            "width": null,
            "min_width": null,
            "border": null,
            "align_items": null,
            "bottom": null,
            "_model_module": "@jupyter-widgets/base",
            "top": null,
            "grid_column": null,
            "overflow_y": null,
            "overflow_x": null,
            "grid_auto_flow": null,
            "grid_area": null,
            "grid_template_columns": null,
            "flex": null,
            "_model_name": "LayoutModel",
            "justify_items": null,
            "grid_row": null,
            "max_height": null,
            "align_content": null,
            "visibility": null,
            "align_self": null,
            "height": null,
            "min_height": null,
            "padding": null,
            "grid_auto_rows": null,
            "grid_gap": null,
            "max_width": null,
            "order": null,
            "_view_module_version": "1.2.0",
            "grid_template_areas": null,
            "object_position": null,
            "object_fit": null,
            "grid_auto_columns": null,
            "margin": null,
            "display": null,
            "left": null
          }
        },
        "86864732a4b14b6fa83027a4d95418aa": {
          "model_module": "@jupyter-widgets/controls",
          "model_name": "FloatProgressModel",
          "state": {
            "_view_name": "ProgressView",
            "style": "IPY_MODEL_8b8e5c79f2754f9c8b8d245a9acf1731",
            "_dom_classes": [],
            "description": "100%",
            "_model_name": "FloatProgressModel",
            "bar_style": "success",
            "max": 30,
            "_view_module": "@jupyter-widgets/controls",
            "_model_module_version": "1.5.0",
            "value": 30,
            "_view_count": null,
            "_view_module_version": "1.5.0",
            "orientation": "horizontal",
            "min": 0,
            "description_tooltip": null,
            "_model_module": "@jupyter-widgets/controls",
            "layout": "IPY_MODEL_d2a7709eee784eb29a46b8e1f58e3e8e"
          }
        },
        "83e0dfa400154177832b33c15771c917": {
          "model_module": "@jupyter-widgets/controls",
          "model_name": "HTMLModel",
          "state": {
            "_view_name": "HTMLView",
            "style": "IPY_MODEL_d9f6ce8a26504c25a34d21807fa876b9",
            "_dom_classes": [],
            "description": "",
            "_model_name": "HTMLModel",
            "placeholder": "​",
            "_view_module": "@jupyter-widgets/controls",
            "_model_module_version": "1.5.0",
            "value": " 30/30 [01:11&lt;00:00,  2.39s/it]",
            "_view_count": null,
            "_view_module_version": "1.5.0",
            "description_tooltip": null,
            "_model_module": "@jupyter-widgets/controls",
            "layout": "IPY_MODEL_29386331b5b54e9e996d5cb34f774e75"
          }
        },
        "8b8e5c79f2754f9c8b8d245a9acf1731": {
          "model_module": "@jupyter-widgets/controls",
          "model_name": "ProgressStyleModel",
          "state": {
            "_view_name": "StyleView",
            "_model_name": "ProgressStyleModel",
            "description_width": "initial",
            "_view_module": "@jupyter-widgets/base",
            "_model_module_version": "1.5.0",
            "_view_count": null,
            "_view_module_version": "1.2.0",
            "bar_color": null,
            "_model_module": "@jupyter-widgets/controls"
          }
        },
        "d2a7709eee784eb29a46b8e1f58e3e8e": {
          "model_module": "@jupyter-widgets/base",
          "model_name": "LayoutModel",
          "state": {
            "_view_name": "LayoutView",
            "grid_template_rows": null,
            "right": null,
            "justify_content": null,
            "_view_module": "@jupyter-widgets/base",
            "overflow": null,
            "_model_module_version": "1.2.0",
            "_view_count": null,
            "flex_flow": null,
            "width": null,
            "min_width": null,
            "border": null,
            "align_items": null,
            "bottom": null,
            "_model_module": "@jupyter-widgets/base",
            "top": null,
            "grid_column": null,
            "overflow_y": null,
            "overflow_x": null,
            "grid_auto_flow": null,
            "grid_area": null,
            "grid_template_columns": null,
            "flex": null,
            "_model_name": "LayoutModel",
            "justify_items": null,
            "grid_row": null,
            "max_height": null,
            "align_content": null,
            "visibility": null,
            "align_self": null,
            "height": null,
            "min_height": null,
            "padding": null,
            "grid_auto_rows": null,
            "grid_gap": null,
            "max_width": null,
            "order": null,
            "_view_module_version": "1.2.0",
            "grid_template_areas": null,
            "object_position": null,
            "object_fit": null,
            "grid_auto_columns": null,
            "margin": null,
            "display": null,
            "left": null
          }
        },
        "d9f6ce8a26504c25a34d21807fa876b9": {
          "model_module": "@jupyter-widgets/controls",
          "model_name": "DescriptionStyleModel",
          "state": {
            "_view_name": "StyleView",
            "_model_name": "DescriptionStyleModel",
            "description_width": "",
            "_view_module": "@jupyter-widgets/base",
            "_model_module_version": "1.5.0",
            "_view_count": null,
            "_view_module_version": "1.2.0",
            "_model_module": "@jupyter-widgets/controls"
          }
        },
        "29386331b5b54e9e996d5cb34f774e75": {
          "model_module": "@jupyter-widgets/base",
          "model_name": "LayoutModel",
          "state": {
            "_view_name": "LayoutView",
            "grid_template_rows": null,
            "right": null,
            "justify_content": null,
            "_view_module": "@jupyter-widgets/base",
            "overflow": null,
            "_model_module_version": "1.2.0",
            "_view_count": null,
            "flex_flow": null,
            "width": null,
            "min_width": null,
            "border": null,
            "align_items": null,
            "bottom": null,
            "_model_module": "@jupyter-widgets/base",
            "top": null,
            "grid_column": null,
            "overflow_y": null,
            "overflow_x": null,
            "grid_auto_flow": null,
            "grid_area": null,
            "grid_template_columns": null,
            "flex": null,
            "_model_name": "LayoutModel",
            "justify_items": null,
            "grid_row": null,
            "max_height": null,
            "align_content": null,
            "visibility": null,
            "align_self": null,
            "height": null,
            "min_height": null,
            "padding": null,
            "grid_auto_rows": null,
            "grid_gap": null,
            "max_width": null,
            "order": null,
            "_view_module_version": "1.2.0",
            "grid_template_areas": null,
            "object_position": null,
            "object_fit": null,
            "grid_auto_columns": null,
            "margin": null,
            "display": null,
            "left": null
          }
        }
      }
    }
  },
  "cells": [
    {
      "cell_type": "markdown",
      "metadata": {
        "id": "view-in-github",
        "colab_type": "text"
      },
      "source": [
        "<a href=\"https://colab.research.google.com/github/abhishekshakya/BPSO-Decision-Trees-for-Software-fault-prediciton/blob/master/internPSO.ipynb\" target=\"_parent\"><img src=\"https://colab.research.google.com/assets/colab-badge.svg\" alt=\"Open In Colab\"/></a>"
      ]
    },
    {
      "cell_type": "code",
      "metadata": {
        "id": "HfyL3fm-6DNS",
        "colab_type": "code",
        "colab": {
          "base_uri": "https://localhost:8080/",
          "height": 122
        },
        "outputId": "f5ad384f-cd98-40fa-d8c6-cfe6f77a7620"
      },
      "source": [
        "from google.colab import drive\n",
        "drive.mount('/content/drive/')\n",
        "#https://ieeexplore.ieee.org/abstract/document/8011255\n",
        "#from SVM https://www.youtube.com/watch?v=_PwhiWxHK8o"
      ],
      "execution_count": 1,
      "outputs": [
        {
          "output_type": "stream",
          "text": [
            "Go to this URL in a browser: https://accounts.google.com/o/oauth2/auth?client_id=947318989803-6bn6qk8qdgf4n4g3pfee6491hc0brc4i.apps.googleusercontent.com&redirect_uri=urn%3aietf%3awg%3aoauth%3a2.0%3aoob&scope=email%20https%3a%2f%2fwww.googleapis.com%2fauth%2fdocs.test%20https%3a%2f%2fwww.googleapis.com%2fauth%2fdrive%20https%3a%2f%2fwww.googleapis.com%2fauth%2fdrive.photos.readonly%20https%3a%2f%2fwww.googleapis.com%2fauth%2fpeopleapi.readonly&response_type=code\n",
            "\n",
            "Enter your authorization code:\n",
            "··········\n",
            "Mounted at /content/drive/\n"
          ],
          "name": "stdout"
        }
      ]
    },
    {
      "cell_type": "code",
      "metadata": {
        "id": "miyGXC-P6UTX",
        "colab_type": "code",
        "colab": {}
      },
      "source": [
        "import pandas as pd\n",
        "import numpy as np\n",
        "import matplotlib.pyplot as plt\n",
        "import random\n",
        "from tqdm.notebook import tqdm\n",
        "from sklearn.tree import DecisionTreeClassifier\n",
        "from sklearn.metrics import roc_auc_score"
      ],
      "execution_count": 2,
      "outputs": []
    },
    {
      "cell_type": "code",
      "metadata": {
        "id": "0WYjeWtE6WvA",
        "colab_type": "code",
        "colab": {}
      },
      "source": [
        "df_pc1 = pd.read_csv('/content/drive/My Drive/dataset/pc1.csv')\n",
        "df_kc1 = pd.read_csv('/content/drive/My Drive/dataset/kc1.csv')\n",
        "df_kc2 = pd.read_csv('/content/drive/My Drive/dataset/kc2.csv')\n",
        "df_jm1 = pd.read_csv('/content/drive/My Drive/dataset/jm1.csv')"
      ],
      "execution_count": 3,
      "outputs": []
    },
    {
      "cell_type": "code",
      "metadata": {
        "id": "0IrUlC226Wx8",
        "colab_type": "code",
        "colab": {}
      },
      "source": [
        "def normalize(x):\n",
        "  x = x.astype(float)\n",
        "  min = np.min(x)\n",
        "  max = np.max(x)\n",
        "  return (x - min)/(max-min)\n",
        "\n",
        "x_real = df_pc1.iloc[:,:-1].apply(func= normalize, axis=0).values\n",
        "y_real = df_pc1.iloc[:,-1].values.astype(int)"
      ],
      "execution_count": 4,
      "outputs": []
    },
    {
      "cell_type": "markdown",
      "metadata": {
        "id": "eHvrxFPNlIFq",
        "colab_type": "text"
      },
      "source": [
        "##Data cleaning\n",
        "\n",
        "#####For kc2, here y feature is in object type"
      ]
    },
    {
      "cell_type": "code",
      "metadata": {
        "id": "JW6uUDXolLxp",
        "colab_type": "code",
        "colab": {}
      },
      "source": [
        "#for kc2 here change output feature from object -> bool\n",
        "p = df_kc2['defects']\n",
        "map = {'yes':True, 'no':False}\n",
        "df_kc2['defects'] = p.map(map)\n"
      ],
      "execution_count": 5,
      "outputs": []
    },
    {
      "cell_type": "markdown",
      "metadata": {
        "id": "usrgaCcuxOG9",
        "colab_type": "text"
      },
      "source": [
        "####For jm1, we have '?' randomly distributed so we need to remove them also"
      ]
    },
    {
      "cell_type": "code",
      "metadata": {
        "id": "5q67w7Ogxep2",
        "colab_type": "code",
        "colab": {}
      },
      "source": [
        "d1,d2,d3,d4,d5 = df_jm1.iloc[:,16], df_jm1.iloc[:,17], df_jm1.iloc[:,18], df_jm1.iloc[:,19], df_jm1.iloc[:,20]\n",
        "\n",
        "for i in range(len(d1)):\n",
        "  if (str)(d1[i]) == '?' or (str)(d2[i]) == '?' or (str)(d3[i]) == '?' or (str)(d4[i]) == '?' or (str)(d5[i]) == '?':\n",
        "    df_jm1.drop(i,inplace=True)\n",
        "    i -= 1\n"
      ],
      "execution_count": 6,
      "outputs": []
    },
    {
      "cell_type": "code",
      "metadata": {
        "id": "8WvwkyoS6W0Q",
        "colab_type": "code",
        "colab": {
          "base_uri": "https://localhost:8080/",
          "height": 255
        },
        "outputId": "2db0a24a-6f3d-4d7a-b89d-a6b204c670f1"
      },
      "source": [
        "print(x_real)\n",
        "print(y_real)"
      ],
      "execution_count": 7,
      "outputs": [
        {
          "output_type": "stream",
          "text": [
            "[[1.82724252e-03 2.96296296e-03 3.27868852e-03 ... 1.21951220e-04\n",
            "  1.04895105e-03 1.70212766e-03]\n",
            " [1.66112957e-03 0.00000000e+00 0.00000000e+00 ... 0.00000000e+00\n",
            "  8.74125874e-04 0.00000000e+00]\n",
            " [1.51162791e-01 5.92592593e-02 1.63934426e-02 ... 1.16463415e-01\n",
            "  1.10139860e-01 6.80851064e-02]\n",
            " ...\n",
            " [8.30564784e-03 1.48148148e-02 1.63934426e-02 ... 6.09756098e-03\n",
            "  5.24475524e-03 1.70212766e-02]\n",
            " [2.99003322e-02 5.18518519e-02 3.27868852e-02 ... 3.65853659e-02\n",
            "  4.37062937e-02 5.95744681e-02]\n",
            " [4.31893688e-02 1.25925926e-01 9.83606557e-02 ... 7.19512195e-02\n",
            "  9.52797203e-02 1.44680851e-01]]\n",
            "[0 1 1 ... 0 0 0]\n"
          ],
          "name": "stdout"
        }
      ]
    },
    {
      "cell_type": "code",
      "metadata": {
        "id": "NpPDJIgTXEPF",
        "colab_type": "code",
        "colab": {}
      },
      "source": [
        ""
      ],
      "execution_count": 7,
      "outputs": []
    },
    {
      "cell_type": "code",
      "metadata": {
        "id": "BquNYyKNlChu",
        "colab_type": "code",
        "colab": {
          "base_uri": "https://localhost:8080/",
          "height": 34
        },
        "outputId": "90016528-f290-47e6-f313-122f8afcb72d"
      },
      "source": [
        "((ans==y_real).sum()*1.0)/len(ans)"
      ],
      "execution_count": 20,
      "outputs": [
        {
          "output_type": "execute_result",
          "data": {
            "text/plain": [
              "0.9305680793507665"
            ]
          },
          "metadata": {
            "tags": []
          },
          "execution_count": 20
        }
      ]
    },
    {
      "cell_type": "code",
      "metadata": {
        "id": "ZRxItZpPr3rU",
        "colab_type": "code",
        "colab": {
          "base_uri": "https://localhost:8080/",
          "height": 34
        },
        "outputId": "700d1531-31d1-4fd3-d9dd-17a0bd6e9f68"
      },
      "source": [
        ""
      ],
      "execution_count": 132,
      "outputs": [
        {
          "output_type": "execute_result",
          "data": {
            "text/plain": [
              "device(type='cpu')"
            ]
          },
          "metadata": {
            "tags": []
          },
          "execution_count": 132
        }
      ]
    },
    {
      "cell_type": "code",
      "metadata": {
        "id": "QNRAZQEGZ8wZ",
        "colab_type": "code",
        "colab": {
          "base_uri": "https://localhost:8080/",
          "height": 34
        },
        "outputId": "b5a37b26-d00f-482a-c346-a2a5b472e600"
      },
      "source": [
        "# ans = ans.reshape(ans.shape[0])\n",
        "corr = 0\n",
        "wrng = 0\n",
        "for i in range(len(ans)):\n",
        "  if ans[i] == y_real[i]:\n",
        "    corr += 1\n",
        "  else:\n",
        "    wrng += 1\n",
        "\n",
        "acc =  (corr*1.0)/(corr+wrng)\n",
        "print(corr, wrng)"
      ],
      "execution_count": 115,
      "outputs": [
        {
          "output_type": "stream",
          "text": [
            "1033 76\n"
          ],
          "name": "stdout"
        }
      ]
    },
    {
      "cell_type": "code",
      "metadata": {
        "id": "ivsJpKvK6W29",
        "colab_type": "code",
        "colab": {}
      },
      "source": [
        "class PSO:\n",
        "  def __init__(self,particles, dimensions, lb, ub, itrations, c1, c2, w, xr, yr):\n",
        "    self.xr = xr\n",
        "    self.yr = yr\n",
        "    self.lb = lb\n",
        "    self.ub = ub\n",
        "    self.p = particles\n",
        "    self.d = dimensions\n",
        "    self.n = itrations\n",
        "    self.c1 = c1\n",
        "    self.c2 = c2\n",
        "    self.w = w\n",
        "    self.fitness_value = np.zeros(particles)+np.inf#p\n",
        "    self.X = np.random.randint(0,2,(particles,dimensions))#pxd\n",
        "    self.V = np.random.randint(0,2,(particles,dimensions))#pxd\n",
        "    self.pbest = self.X#pxd\n",
        "    self.gbest = np.zeros(dimensions)#d\n",
        "    #---initialiastion-------------------------\n",
        "    min = np.inf\n",
        "    for i in range(self.p):\n",
        "      fit = self.fitness(self.X[i])\n",
        "      if min > fit:\n",
        "        min = fit\n",
        "        self.gbest = self.X[i]\n",
        "    #-------------------------------------------\n",
        "    self.run()\n",
        "\n",
        "  def sigmoid(self,x):\n",
        "    return 1/(1+np.exp(-x))\n",
        "  \n",
        "  def count(self,x):\n",
        "    c = np.sum(x)\n",
        "    return c\n",
        "\n",
        "  def fitness(self,x):\n",
        "    x_train = []\n",
        "    y_train = self.yr\n",
        "\n",
        "    for i in range(self.d):\n",
        "      if x[i] == 1:\n",
        "        x_train.append(self.xr[:,i])\n",
        "\n",
        "    x_train = np.array(x_train).reshape((self.xr.shape[0],-1))\n",
        "\n",
        "    if x_train.shape[1] == 0:\n",
        "      return 0\n",
        "\n",
        "    classifier = DecisionTreeClassifier()\n",
        "    classifier.fit(x_train,y_train)\n",
        "    chk = classifier.predict(x_train)\n",
        "\n",
        "    acc = ((chk==y_train).sum()*1.0)/len(chk)\n",
        "    return acc\n",
        "\n",
        "  def run(self):\n",
        "    for itr in tqdm(range(self.n)):\n",
        "      for i in range(self.p):\n",
        "        if self.fitness(self.X[i]) > self.fitness(self.pbest[i]):\n",
        "          self.pbest[i] = self.X[i]\n",
        "\n",
        "        if self.fitness(self.X[i] > self.fitness(self.gbest)):\n",
        "          self.gbest = self.X[i]\n",
        "\n",
        "        if (self.fitness(self.X[i]) == self.fitness(self.gbest) ) and (self.count(self.X[i]) < self.count(self.gbest)):\n",
        "          self.gbest = self.X[i]\n",
        "\n",
        "      r1 = random.uniform(0,1)\n",
        "      r2 = random.uniform(0,1)\n",
        "      for p in range(self.p):\n",
        "        for q in range(self.d):\n",
        "          self.V[p][q] = self.w * self.V[p][q] + self.c1*r1*(self.pbest[p][q] - self.X[p][q]) + self.c2*r2*(self.gbest[q] - self.X[p][q])\n",
        "\n",
        "          if self.V[p][q] > self.ub:\n",
        "            self.V[p][q] = self.ub\n",
        "          if self.V[p][q] < self.lb:\n",
        "            self.V[p][q] = self.ub\n",
        "\n",
        "          if self.sigmoid(self.V[p][q]) > random.uniform(0,1):\n",
        "            self.X[p][q] = 1\n",
        "          else:\n",
        "            self.X[p][q] = 0\n"
      ],
      "execution_count": 15,
      "outputs": []
    },
    {
      "cell_type": "markdown",
      "metadata": {
        "id": "sHxVkAXq0GGE",
        "colab_type": "text"
      },
      "source": [
        "#Testing"
      ]
    },
    {
      "cell_type": "code",
      "metadata": {
        "id": "uzmuIyTb6XCr",
        "colab_type": "code",
        "colab": {
          "base_uri": "https://localhost:8080/",
          "height": 66,
          "referenced_widgets": [
            "aa111ab9fad540e7ab54ef6c6fa1ec90",
            "034388bc21a440acb59a7e235208da81",
            "86864732a4b14b6fa83027a4d95418aa",
            "83e0dfa400154177832b33c15771c917",
            "8b8e5c79f2754f9c8b8d245a9acf1731",
            "d2a7709eee784eb29a46b8e1f58e3e8e",
            "d9f6ce8a26504c25a34d21807fa876b9",
            "29386331b5b54e9e996d5cb34f774e75"
          ]
        },
        "outputId": "3e0d4387-2f62-4bff-d385-2f0bca9b4e69"
      },
      "source": [
        "p = 50 #number of particles\n",
        "d = x_real.shape[1] #total number of features\n",
        "lb = 0 #min value after normalization\n",
        "ub = 1 #max value after normalization\n",
        "it = 30 #number of itrations\n",
        "c1 = 1.5 # coefficient 1\n",
        "c2 = 1.7 # coefficient 3\n",
        "w = 0.7 #intertia\n",
        "xr = x_real #dataset under which PSO needs to be performed\n",
        "yr = y_real #dataset under which PSO needs to be performed\n",
        "pp = PSO(p,d,lb,ub,it,c1,c2,w, xr, yr)"
      ],
      "execution_count": 16,
      "outputs": [
        {
          "output_type": "display_data",
          "data": {
            "application/vnd.jupyter.widget-view+json": {
              "model_id": "aa111ab9fad540e7ab54ef6c6fa1ec90",
              "version_minor": 0,
              "version_major": 2
            },
            "text/plain": [
              "HBox(children=(FloatProgress(value=0.0, max=30.0), HTML(value='')))"
            ]
          },
          "metadata": {
            "tags": []
          }
        },
        {
          "output_type": "stream",
          "text": [
            "\n"
          ],
          "name": "stdout"
        }
      ]
    },
    {
      "cell_type": "code",
      "metadata": {
        "id": "B3kC1opv6XE-",
        "colab_type": "code",
        "colab": {
          "base_uri": "https://localhost:8080/",
          "height": 34
        },
        "outputId": "3101a1ba-07d0-4078-a4c4-2cfab227de5c"
      },
      "source": [
        "sum(pp.gbest)"
      ],
      "execution_count": 17,
      "outputs": [
        {
          "output_type": "execute_result",
          "data": {
            "text/plain": [
              "8"
            ]
          },
          "metadata": {
            "tags": []
          },
          "execution_count": 17
        }
      ]
    },
    {
      "cell_type": "markdown",
      "metadata": {
        "id": "BI81oqiA0Qun",
        "colab_type": "text"
      },
      "source": [
        "###total number of features selected is 8"
      ]
    },
    {
      "cell_type": "code",
      "metadata": {
        "id": "oblqghYV6XHa",
        "colab_type": "code",
        "colab": {}
      },
      "source": [
        "#Testing\n",
        "classifier1 = DecisionTreeClassifier()\n",
        "classifier2 = DecisionTreeClassifier()"
      ],
      "execution_count": 18,
      "outputs": []
    },
    {
      "cell_type": "code",
      "metadata": {
        "id": "_BD0YwYG6XKP",
        "colab_type": "code",
        "colab": {}
      },
      "source": [
        "inp1 = []\n",
        "y_train = y_real\n",
        "\n",
        "for i in range(d):\n",
        "  if pp.gbest[i] == 1:\n",
        "    inp1.append(x_real[:,i])\n",
        "\n",
        "inp1 = np.array(inp1).reshape((x_real.shape[0],-1))"
      ],
      "execution_count": 19,
      "outputs": []
    },
    {
      "cell_type": "code",
      "metadata": {
        "id": "MWsgMLDT6XNp",
        "colab_type": "code",
        "colab": {
          "base_uri": "https://localhost:8080/",
          "height": 119
        },
        "outputId": "aa9612b8-dc0a-417a-fe4f-ecf2aa83d94e"
      },
      "source": [
        "classifier1.fit(inp1, y_real)\n",
        "classifier2.fit(x_real, y_real)"
      ],
      "execution_count": 20,
      "outputs": [
        {
          "output_type": "execute_result",
          "data": {
            "text/plain": [
              "DecisionTreeClassifier(ccp_alpha=0.0, class_weight=None, criterion='gini',\n",
              "                       max_depth=None, max_features=None, max_leaf_nodes=None,\n",
              "                       min_impurity_decrease=0.0, min_impurity_split=None,\n",
              "                       min_samples_leaf=1, min_samples_split=2,\n",
              "                       min_weight_fraction_leaf=0.0, presort='deprecated',\n",
              "                       random_state=None, splitter='best')"
            ]
          },
          "metadata": {
            "tags": []
          },
          "execution_count": 20
        }
      ]
    },
    {
      "cell_type": "code",
      "metadata": {
        "id": "XGwU4QCW6W9-",
        "colab_type": "code",
        "colab": {}
      },
      "source": [
        "pred1 = classifier1.predict(inp1)\n",
        "pred2 = classifier2.predict(x_real)"
      ],
      "execution_count": 21,
      "outputs": []
    },
    {
      "cell_type": "code",
      "metadata": {
        "id": "WmD4XdIt6W8J",
        "colab_type": "code",
        "colab": {}
      },
      "source": [
        "from sklearn.metrics import confusion_matrix\n",
        "c1 = confusion_matrix(y_real, pred1)\n",
        "c2 = confusion_matrix(y_real, pred2)"
      ],
      "execution_count": 22,
      "outputs": []
    },
    {
      "cell_type": "code",
      "metadata": {
        "id": "SD5Zb_i3OyFV",
        "colab_type": "code",
        "colab": {
          "base_uri": "https://localhost:8080/",
          "height": 68
        },
        "outputId": "a32aa3a0-820f-41f2-e7c2-e7c822cdec1b"
      },
      "source": [
        "print(c1)\n",
        "print(f\"accuracy->{(100*(c1[0][0]+c1[1][1])*1.0)/(c1[0][0]+c1[0][1]+c1[1][0]+c1[1][1])}\")"
      ],
      "execution_count": 23,
      "outputs": [
        {
          "output_type": "stream",
          "text": [
            "[[1032    0]\n",
            " [   1   76]]\n",
            "accuracy->99.90982867448152\n"
          ],
          "name": "stdout"
        }
      ]
    },
    {
      "cell_type": "code",
      "metadata": {
        "id": "06HhpJZCl85_",
        "colab_type": "code",
        "colab": {
          "base_uri": "https://localhost:8080/",
          "height": 68
        },
        "outputId": "aa14f27f-4025-4fc9-b3f4-a554e0f28879"
      },
      "source": [
        "print(c2)\n",
        "print(f\"accuracy->{(100*(c2[0][0]+c2[1][1])*1.0)/(c2[0][0]+c2[0][1]+c2[1][0]+c2[1][1])}\")"
      ],
      "execution_count": 24,
      "outputs": [
        {
          "output_type": "stream",
          "text": [
            "[[1032    0]\n",
            " [   6   71]]\n",
            "accuracy->99.45897204688909\n"
          ],
          "name": "stdout"
        }
      ]
    },
    {
      "cell_type": "code",
      "metadata": {
        "id": "7q53Ql8zp2Z2",
        "colab_type": "code",
        "colab": {}
      },
      "source": [
        "def get(class1, class2, gbest, df):\n",
        "  x = df.iloc[:,:-1].apply(func= normalize, axis=0).values\n",
        "  y = df.iloc[:,-1].values.astype(int)\n",
        "  ip = []\n",
        "  op = y\n",
        "  for i in range(d):\n",
        "    if gbest[i] == 1:\n",
        "      ip.append(x[:,i])\n",
        "\n",
        "  ip = np.array(ip).reshape((x.shape[0],-1))\n",
        "\n",
        "  prediction1 = class1.predict(ip)#feature selection\n",
        "  prediction2 = class2.predict(x)#no feature selection\n",
        "\n",
        "  c1 = confusion_matrix(op, prediction1)\n",
        "  c2 = confusion_matrix(op, prediction2)\n",
        "\n",
        "  print(f\"Feature selection accuracy->{(100*(c1[0][0]+c1[1][1])*1.0)/(c1[0][0]+c1[0][1]+c1[1][0]+c1[1][1])}\")\n",
        "  print(f\"No Feature selection accuracy->{(100*(c2[0][0]+c2[1][1])*1.0)/(c2[0][0]+c2[0][1]+c2[1][0]+c2[1][1])}\")\n"
      ],
      "execution_count": 25,
      "outputs": []
    },
    {
      "cell_type": "code",
      "metadata": {
        "id": "3eP1w0B4u94f",
        "colab_type": "code",
        "colab": {
          "base_uri": "https://localhost:8080/",
          "height": 51
        },
        "outputId": "e7288dad-f74a-4415-b463-d213c6b4bc79"
      },
      "source": [
        "get(classifier1,classifier2, pp.gbest, df_kc1)"
      ],
      "execution_count": 26,
      "outputs": [
        {
          "output_type": "stream",
          "text": [
            "Feature selection accuracy->81.69748696064485\n",
            "No Feature selection accuracy->54.480796586059746\n"
          ],
          "name": "stdout"
        }
      ]
    },
    {
      "cell_type": "code",
      "metadata": {
        "id": "rfcYLMrGrPPa",
        "colab_type": "code",
        "colab": {
          "base_uri": "https://localhost:8080/",
          "height": 51
        },
        "outputId": "1a96e696-657c-47a7-b023-5218f72b765b"
      },
      "source": [
        "get(classifier1, classifier2, pp.gbest, df_kc2)"
      ],
      "execution_count": 27,
      "outputs": [
        {
          "output_type": "stream",
          "text": [
            "Feature selection accuracy->73.37164750957854\n",
            "No Feature selection accuracy->72.22222222222223\n"
          ],
          "name": "stdout"
        }
      ]
    },
    {
      "cell_type": "code",
      "metadata": {
        "id": "16vheiWhTuB4",
        "colab_type": "code",
        "colab": {
          "base_uri": "https://localhost:8080/",
          "height": 51
        },
        "outputId": "9677c82b-e734-4b76-e850-5f700ccb3b8c"
      },
      "source": [
        "get(classifier1, classifier2, pp.gbest, df_jm1)"
      ],
      "execution_count": 28,
      "outputs": [
        {
          "output_type": "stream",
          "text": [
            "Feature selection accuracy->79.63235294117646\n",
            "No Feature selection accuracy->79.35661764705883\n"
          ],
          "name": "stdout"
        }
      ]
    },
    {
      "cell_type": "code",
      "metadata": {
        "id": "16S3HqJKT5SX",
        "colab_type": "code",
        "colab": {}
      },
      "source": [
        ""
      ],
      "execution_count": 24,
      "outputs": []
    },
    {
      "cell_type": "code",
      "metadata": {
        "id": "XHSYsds1UC5O",
        "colab_type": "code",
        "colab": {}
      },
      "source": [
        ""
      ],
      "execution_count": 26,
      "outputs": []
    },
    {
      "cell_type": "code",
      "metadata": {
        "id": "RHJjSwglWRyU",
        "colab_type": "code",
        "colab": {}
      },
      "source": [
        ""
      ],
      "execution_count": 26,
      "outputs": []
    },
    {
      "cell_type": "code",
      "metadata": {
        "id": "XnL00QtMlFAT",
        "colab_type": "code",
        "colab": {}
      },
      "source": [
        ""
      ],
      "execution_count": 26,
      "outputs": []
    },
    {
      "cell_type": "code",
      "metadata": {
        "id": "KB1msYnJx3xk",
        "colab_type": "code",
        "colab": {}
      },
      "source": [
        ""
      ],
      "execution_count": 79,
      "outputs": []
    },
    {
      "cell_type": "code",
      "metadata": {
        "id": "FW3duFCqI2P-",
        "colab_type": "code",
        "colab": {}
      },
      "source": [
        ""
      ],
      "execution_count": null,
      "outputs": []
    },
    {
      "cell_type": "code",
      "metadata": {
        "id": "6X6yrDmCgZcM",
        "colab_type": "code",
        "colab": {}
      },
      "source": [
        ""
      ],
      "execution_count": null,
      "outputs": []
    }
  ]
}